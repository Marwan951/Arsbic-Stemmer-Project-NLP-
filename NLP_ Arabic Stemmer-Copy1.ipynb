{
 "cells": [
  {
   "cell_type": "markdown",
   "id": "68ff1305",
   "metadata": {},
   "source": [
    "# Arabic Stemmer \n",
    "#Marwan Salah\n"
   ]
  },
  {
   "cell_type": "code",
   "execution_count": 1,
   "id": "2c57a2fa",
   "metadata": {},
   "outputs": [],
   "source": [
    "import re "
   ]
  },
  {
   "cell_type": "code",
   "execution_count": 2,
   "id": "b1967496",
   "metadata": {},
   "outputs": [],
   "source": [
    "\n",
    "# special chars\n",
    "special = ['~','!','@','#','$','%','^','&','*','(',')','_','-','+','=','{','}','?','>','<',':']\n",
    "\n",
    "#stop words\n",
    "stop_words  = ['من',\n",
    " 'في',\n",
    " 'على',\n",
    " 'و',\n",
    " 'فى',\n",
    " 'يا',\n",
    " 'عن',\n",
    " 'مع',\n",
    " 'ان',\n",
    " 'هو',\n",
    " 'علي',\n",
    " 'ما',\n",
    " 'اللي',\n",
    " 'كل',\n",
    " 'بعد',\n",
    " 'ده',\n",
    " 'اليوم',\n",
    " 'أن',\n",
    " 'يوم',\n",
    " 'انا',\n",
    " 'إلى',\n",
    " 'كان',\n",
    " 'ايه',\n",
    " 'اللى',\n",
    " 'الى',\n",
    " 'دي',\n",
    " 'بين',\n",
    " 'انت',\n",
    " 'أنا',\n",
    " 'حتى',\n",
    " 'لما',\n",
    " 'فيه',\n",
    " 'هذا',\n",
    " 'واحد',\n",
    " 'احنا',\n",
    " 'اي',\n",
    " 'كده',\n",
    " 'إن',\n",
    " 'او',\n",
    " 'أو',\n",
    " 'عليه',\n",
    " 'ف',\n",
    " 'دى',\n",
    " 'مين',\n",
    " 'الي',\n",
    " 'كانت',\n",
    " 'أمام',\n",
    " 'زي',\n",
    " 'يكون',\n",
    " 'خلال',\n",
    " 'ع',\n",
    " 'كنت',\n",
    " 'هي',\n",
    " 'فيها',\n",
    " 'عند',\n",
    " 'التي',\n",
    " 'الذي',\n",
    " 'قال',\n",
    " 'هذه',\n",
    " 'قد',\n",
    " 'انه',\n",
    " 'ريتويت',\n",
    " 'بعض',\n",
    " 'أول',\n",
    " 'ايه',\n",
    " 'الان',\n",
    " 'أي',\n",
    " 'منذ',\n",
    " 'عليها',\n",
    " 'له',\n",
    " 'ال',\n",
    " 'تم',\n",
    " 'ب',\n",
    " 'دة',\n",
    " 'عليك',\n",
    " 'اى',\n",
    " 'كلها',\n",
    " 'اللتى',\n",
    " 'هى',\n",
    " 'دا',\n",
    " 'انك',\n",
    " 'وهو',\n",
    " 'ومن',\n",
    " 'منك',\n",
    " 'نحن',\n",
    " 'زى',\n",
    " 'أنت',\n",
    " 'انهم',\n",
    " 'معانا',\n",
    " 'حتي',\n",
    " 'وانا',\n",
    " 'عنه',\n",
    " 'إلي',\n",
    " 'ونحن',\n",
    " 'وانت',\n",
    " 'منكم',\n",
    " 'وان',\n",
    " 'معاهم',\n",
    " 'معايا',\n",
    " 'وأنا',\n",
    " 'عنها',\n",
    " 'إنه',\n",
    " 'اني',\n",
    " 'معك',\n",
    " 'اننا',\n",
    " 'فيهم',\n",
    " 'د',\n",
    " 'انتا',\n",
    " 'عنك',\n",
    " 'وهى',\n",
    " 'معا',\n",
    " 'آن',\n",
    " 'انتي',\n",
    " 'وأنت',\n",
    " 'وإن',\n",
    " 'ومع',\n",
    " 'وعن',\n",
    " 'معاكم',\n",
    " 'معاكو',\n",
    " 'معاها',\n",
    " 'وعليه',\n",
    " 'وانتم',\n",
    " 'وانتي',\n",
    " '¿',\n",
    " '|']\n",
    "\n",
    "\n",
    "#Stemming Part\n",
    "\n",
    "#def articles\n",
    "articles = ['بال','فال','وال','كال','ولل','ال','ل','ال', 'لي','ل',' ا',' فبال','لبال','وبال']\n",
    "\n",
    "\n",
    "#prefix\n",
    "p1=['ا','ل','ب','و','ف','س','ى','ت']\n",
    "p2=['اى','ون','فى','فب','فت','لي','فن','وب','فا','ول','وو','اف','لا','ات','وى','وت','اا','ال','ست','سى','يس','يت','گت','ىى','تت']\n",
    "p3=['مست','ولت','فلى','فلن','فلل','فهو','فهم','فال','ىست','تست','است','فهى','سيا','فلا','ءست','بمس','لىت']\n",
    "p4=['اتست','اىست','فاست','ءاست','انهم','ءانى','والم','باست','گمست','والا']\n",
    "p5=['فلىست','الاست','افاست']\n",
    "\n",
    "#suffixes\n",
    "s1=['ت','گ','ى','ه']\n",
    "s2=['وا','ون','هن','ان','وك','اك','اه','ها','هم','كن','ات','ىن']\n",
    "s3=['تنا','نها','تان','ناگ','ونه','ناه','هما','وعا','نهم','وهم','ونى','وعن','تها','تهم','نگم','هات','هان','تان','تهن','وگم','ونه','ونگ','انگ']\n",
    "s4=['موهم','موهن','ناگم','نوهن','ونهم','ناهم','ونگم','توهم','اتها','اتهم','يانه','اءهم']\n",
    "s5=['گموها','ناهما','ناگمو']\n"
   ]
  },
  {
   "cell_type": "markdown",
   "id": "0b8f2360",
   "metadata": {},
   "source": [
    "# Data pre-processing "
   ]
  },
  {
   "cell_type": "code",
   "execution_count": 3,
   "id": "ee5868a2",
   "metadata": {},
   "outputs": [
    {
     "name": "stdout",
     "output_type": "stream",
     "text": [
      "Normalization :الحىاه\n"
     ]
    }
   ],
   "source": [
    "#normalize\n",
    "def normalize(word):\n",
    "    for x in range(3):\n",
    "        word = re.sub(\"أ\",\"ا\", word)\n",
    "        word = re.sub(\"ي\", \"ى\", word)\n",
    "        word = re.sub(\"ؤ\", \"ء\", word)\n",
    "        word = re.sub(\"ئ\", \"ء\", word)\n",
    "        word = re.sub(\"ة\", \"ه\", word)\n",
    "        word = re.sub(\"ك\", \"گ\", word)\n",
    "    return word\n",
    "\n",
    "print(\"Normalization :\" + \"\" + normalize(\"الحياة\"))"
   ]
  },
  {
   "cell_type": "code",
   "execution_count": 4,
   "id": "25131934",
   "metadata": {},
   "outputs": [],
   "source": [
    "def remove_stopwords(words):\n",
    "    without_stop= []\n",
    "    for x in words:\n",
    "        if x in stop_words :\n",
    "            without_stop.append(\"\")\n",
    "        else:\n",
    "            without_stop.append(x)\n",
    "    return without_stop"
   ]
  },
  {
   "cell_type": "code",
   "execution_count": 5,
   "id": "3347262d",
   "metadata": {},
   "outputs": [],
   "source": [
    "def remove_special_chars(words):\n",
    "    without_punctuations = []\n",
    "    for x in words:\n",
    "        if x in special :\n",
    "            without_punctuations.append('')\n",
    "        else:\n",
    "            without_punctuations.append(x)\n",
    "    return without_punctuations"
   ]
  },
  {
   "cell_type": "markdown",
   "id": "ca4965df",
   "metadata": {},
   "source": [
    "# Definition articles removal"
   ]
  },
  {
   "cell_type": "code",
   "execution_count": 6,
   "id": "06f1713e",
   "metadata": {},
   "outputs": [],
   "source": [
    "def Def_articles_removal(word):\n",
    "    if word[0:1] in articles :\n",
    "        word=word.replace(word[0:1],\"\")\n",
    "        \n",
    "    if word[0:2] in articles :\n",
    "        word=word.replace(word[0:2],\"\")\n",
    "    \n",
    "    if word[0:3] in articles :\n",
    "        word=word.replace(word[0:3],\"\")\n",
    "        \n",
    "    return word\n"
   ]
  },
  {
   "cell_type": "markdown",
   "id": "938c791a",
   "metadata": {},
   "source": [
    "# Remove Prefixes"
   ]
  },
  {
   "cell_type": "code",
   "execution_count": 7,
   "id": "67a2b466",
   "metadata": {},
   "outputs": [],
   "source": [
    "def prefix_removal(word):\n",
    "    \n",
    "    if len(word)>=4:\n",
    "        if word[0:1] in p1:\n",
    "            word=word.replace(word[0:1],\"\")            \n",
    "    if len(word)>=5:\n",
    "        if word[0:2] in p2:\n",
    "             word=word.replace(word[0:2],\"\")\n",
    "    if len(word)>=6:\n",
    "        if word[0:3] in p3:\n",
    "            word=word.replace(word[0:3],\"\")\n",
    "    if len(word)>=7:\n",
    "        if word[0:4] in p4:\n",
    "            word=word.replace(word[0:4],\"\")\n",
    "    if len(word)>=8:\n",
    "        if word[0:5] in p5:\n",
    "            word=word.replace(word[0:5],\"\")\n",
    "    return word\n"
   ]
  },
  {
   "cell_type": "markdown",
   "id": "bf47ebfb",
   "metadata": {},
   "source": [
    "# Remove Suffixes"
   ]
  },
  {
   "cell_type": "code",
   "execution_count": 8,
   "id": "bb816b0c",
   "metadata": {},
   "outputs": [],
   "source": [
    "def suffix_removal(word):\n",
    "    for x in range(len(word)):\n",
    "        if len(word)>=4:\n",
    "            if word[-1:] in s1 :\n",
    "                word=word.replace(word[-1:],\"\")\n",
    "                return word\n",
    "                \n",
    "        if len(word)>=5:\n",
    "            if word[-2:] in s2 :\n",
    "                word=word.replace(word[-2:],\"\")  \n",
    "                return word\n",
    "                \n",
    "        if len(word)>=6:\n",
    "            if word[-3:] in s3 :\n",
    "                word=word.replace(word[-3:],\"\")\n",
    "                return word\n",
    "                \n",
    "        if len(word)>=7:\n",
    "            if word[-4:] in s4 :\n",
    "                word=word.replace(word[-4:],\"\")\n",
    "                return word \n",
    "                \n",
    "        if len(word)>=8:\n",
    "            if word[-5:] in s5 :\n",
    "                word=word.replace(word[-5:],\"\")\n",
    "                return word\n",
    "                \n",
    "    return word"
   ]
  },
  {
   "cell_type": "markdown",
   "id": "ea658bb3",
   "metadata": {},
   "source": [
    "# Stemmer "
   ]
  },
  {
   "cell_type": "code",
   "execution_count": 9,
   "id": "c0494875",
   "metadata": {},
   "outputs": [],
   "source": [
    "def Arabic_stemmer(text):\n",
    "    root=[]\n",
    "    for s in text :\n",
    "        s1 = normalize(s)\n",
    "        s2 = Def_articles_removal(s1)\n",
    "        s3 = prefix_removal(s2)\n",
    "        s4 = suffix_removal (s3)\n",
    "        root.append(s4)\n",
    "    return root\n"
   ]
  },
  {
   "cell_type": "markdown",
   "id": "e70e2803",
   "metadata": {},
   "source": [
    "# Test Cases"
   ]
  },
  {
   "cell_type": "code",
   "execution_count": 10,
   "id": "df9d94bf",
   "metadata": {},
   "outputs": [
    {
     "name": "stdout",
     "output_type": "stream",
     "text": [
      "Word    Root \n",
      "\n",
      "يندمون\t ندم\n",
      "يلعبون\t لعب\n",
      "يلهو\t لهو\n",
      "الاولاد\t ولد\n",
      "عملهما\t عمل\n",
      "الوقت\t وقت\n",
      "الامل\t امل\n",
      "الذهب\t ذهب\n",
      "يذهبون\t ذهب\n",
      "الدنيوية\t دنىوى\n",
      "العاملان\t عامل\n"
     ]
    }
   ],
   "source": [
    "Words =['يندمون','يلعبون','يلهو','الاولاد','عملهما','الوقت','الامل','الذهب','يذهبون','الدنيوية','العاملان']\n",
    "root = Arabic_stemmer(Words)\n",
    "\n",
    "print(\"Word    Root \\n\")\n",
    "for i in range(len(Words)):\n",
    "    print(Words[i]+'\\t '+root[i])"
   ]
  },
  {
   "cell_type": "code",
   "execution_count": null,
   "id": "f687ae85",
   "metadata": {},
   "outputs": [],
   "source": []
  }
 ],
 "metadata": {
  "kernelspec": {
   "display_name": "Python 3 (ipykernel)",
   "language": "python",
   "name": "python3"
  },
  "language_info": {
   "codemirror_mode": {
    "name": "ipython",
    "version": 3
   },
   "file_extension": ".py",
   "mimetype": "text/x-python",
   "name": "python",
   "nbconvert_exporter": "python",
   "pygments_lexer": "ipython3",
   "version": "3.9.7"
  }
 },
 "nbformat": 4,
 "nbformat_minor": 5
}
